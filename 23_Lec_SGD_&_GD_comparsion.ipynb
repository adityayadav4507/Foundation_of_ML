{
  "nbformat": 4,
  "nbformat_minor": 0,
  "metadata": {
    "colab": {
      "provenance": [],
      "authorship_tag": "ABX9TyPX7uT7ZQapzan3ulj2YS0V",
      "include_colab_link": true
    },
    "kernelspec": {
      "name": "python3",
      "display_name": "Python 3"
    },
    "language_info": {
      "name": "python"
    }
  },
  "cells": [
    {
      "cell_type": "markdown",
      "metadata": {
        "id": "view-in-github",
        "colab_type": "text"
      },
      "source": [
        "<a href=\"https://colab.research.google.com/github/adityayadav4507/Foundation_of_ML/blob/main/23_Lec_SGD_%26_GD_comparsion.ipynb\" target=\"_parent\"><img src=\"https://colab.research.google.com/assets/colab-badge.svg\" alt=\"Open In Colab\"/></a>"
      ]
    },
    {
      "cell_type": "code",
      "execution_count": null,
      "metadata": {
        "id": "SQt_aht4zyQd"
      },
      "outputs": [],
      "source": [
        "import numpy as np\n",
        "import matplotlib.pyplot as plt\n",
        "import time"
      ]
    },
    {
      "cell_type": "markdown",
      "source": [
        "# Generate synthetic Data\n",
        "\n",
        "data look like y=3*x + 7 + some noise"
      ],
      "metadata": {
        "id": "5p1xawto9ZbS"
      }
    },
    {
      "cell_type": "code",
      "source": [
        "def generate_data(num):\n",
        "  np.random.seed(42)\n",
        "  X= np.random.rand(num ,1)*10  # features\n",
        "  y = 3*X + 7 + np.random.randn(num,1) # Target with some noise\n",
        "\n",
        "  return X , y"
      ],
      "metadata": {
        "id": "ZrMn8qiN7dJQ"
      },
      "execution_count": null,
      "outputs": []
    },
    {
      "cell_type": "markdown",
      "source": [
        "# Mean Squared error ( Loss function )"
      ],
      "metadata": {
        "id": "rLVjC5DUAc0t"
      }
    },
    {
      "cell_type": "code",
      "source": [
        "def compute_loss(y_pre ,y_true):\n",
        "  return np.mean((y_pre - y_true) ** 2)"
      ],
      "metadata": {
        "id": "9GeLTtWZAtup"
      },
      "execution_count": null,
      "outputs": []
    },
    {
      "cell_type": "markdown",
      "source": [
        "# Batch/vanilla Gradient Descent (normal GD)"
      ],
      "metadata": {
        "id": "2yRln9ISBHUM"
      }
    },
    {
      "cell_type": "code",
      "source": [
        "def batch_gradient_descent(X , y , epochs , lr=0.01): #epochs means no of iteration\n",
        "  m , n = X.shape\n",
        "  X = np.c_[np.ones((m,1)),X] # add bias term\n",
        "  theta=np.random.randn(n+1,1)\n",
        "  losses=[]\n",
        "  for epoch in range(epochs):\n",
        "    y_pre = X.dot(theta)\n",
        "    error=y_pre - y\n",
        "    gradient = 2/n * X.T.dot(error) # take  derivative X.T == x transpose\n",
        "    theta -= lr*gradient\n",
        "    loss = compute_loss(y_pre,y)\n",
        "    losses.append(loss)\n",
        "  return theta , losses\n",
        "\n"
      ],
      "metadata": {
        "id": "prZDWxAWBX4E"
      },
      "execution_count": null,
      "outputs": []
    },
    {
      "cell_type": "markdown",
      "source": [
        "# Stochastic gradient Descent\n"
      ],
      "metadata": {
        "id": "1m0n5XsIJpqJ"
      }
    },
    {
      "cell_type": "code",
      "source": [
        "def SGD(X , y, epochs, lr=0.01):\n",
        "  m,n=X.shape\n",
        "  X = np.c_[np.ones((m,1)),X]\n",
        "  theta = np.random.randn(n+1,1)\n",
        "  losses=[]\n",
        "\n",
        "  for epoch in range(epochs):\n",
        "      random_index = np.random.randint(m) # picking a random data point from 1 to m to calculate GD\n",
        "      xi = X[random_index:random_index+1]\n",
        "      yi = y[random_index:random_index+1]\n",
        "      y_pre = xi.dot(theta)  # xi=[2 1] theta=[m,c](vertical)  xi.dot(theta)=2m+c==y_pre\n",
        "      error = y_pre - yi\n",
        "      gradient = 2/m *xi.T.dot(error)\n",
        "      theta -= lr*gradient\n",
        "      loss = compute_loss(y_pre,yi)\n",
        "      losses.append(loss)\n",
        "\n",
        "  return theta , losses"
      ],
      "metadata": {
        "id": "8UA2x0SbJxwH"
      },
      "execution_count": null,
      "outputs": []
    },
    {
      "cell_type": "markdown",
      "source": [
        "# comparsion on small and lasrge dataset"
      ],
      "metadata": {
        "id": "cmoRIjdONZHz"
      }
    },
    {
      "cell_type": "code",
      "source": [
        "small_dataset_size=1000\n",
        "large_dataset_size=100000000\n",
        "\n",
        "x_small , y_small = generate_data(small_dataset_size)\n",
        "x_large , y_large = generate_data(large_dataset_size)"
      ],
      "metadata": {
        "id": "93owy1i5NhN9"
      },
      "execution_count": null,
      "outputs": []
    },
    {
      "cell_type": "markdown",
      "source": [
        "# Run Batch GD"
      ],
      "metadata": {
        "id": "eWYxSj6oOdsn"
      }
    },
    {
      "cell_type": "code",
      "source": [
        "# for small dataset\n",
        "starting_time=time.time()\n",
        "theta_bgd_small , losses_bgd_small = batch_gradient_descent(x_small, y_small, epochs=50)\n",
        "time_bgd_small = time.time()-starting_time\n",
        "\n",
        "# for large data set\n",
        "starting_time=time.time()\n",
        "theta_bgd_large , losses_bgd_large = batch_gradient_descent(x_large, y_large, epochs=50)\n",
        "time_bgd_large = time.time()-starting_time"
      ],
      "metadata": {
        "colab": {
          "base_uri": "https://localhost:8080/"
        },
        "id": "bE2fRTELOiaM",
        "outputId": "93385377-71aa-489c-e5c8-3285d4a88a84"
      },
      "execution_count": null,
      "outputs": [
        {
          "output_type": "stream",
          "name": "stderr",
          "text": [
            "/usr/local/lib/python3.11/dist-packages/numpy/_core/_methods.py:127: RuntimeWarning: overflow encountered in reduce\n",
            "  ret = umr_sum(arr, axis, dtype, out, keepdims, where=where)\n",
            "<ipython-input-45-1c94458e0427>:2: RuntimeWarning: overflow encountered in square\n",
            "  return np.mean((y_pre - y_true) ** 2)\n",
            "<ipython-input-46-5878369ee105>:10: RuntimeWarning: invalid value encountered in subtract\n",
            "  theta -= lr*gradient\n"
          ]
        }
      ]
    },
    {
      "cell_type": "markdown",
      "source": [
        "# Run Stochastic Gradient Descent"
      ],
      "metadata": {
        "id": "tMFwpPdcPmWq"
      }
    },
    {
      "cell_type": "code",
      "source": [
        "# for small dataset\n",
        "starting_time=time.time()\n",
        "theta_sgd_small , losses_sgd_small=SGD(x_small , y_small , epochs=50)\n",
        "time_sgd_small =time.time() - starting_time\n",
        "\n",
        "# for large dataset\n",
        "starting_time=time.time()\n",
        "theta_sgd_large , losses_sgd_large=SGD(x_large , y_large , epochs=50)\n",
        "time_sgd_large =time.time() - starting_time\n"
      ],
      "metadata": {
        "id": "7WBN8YCMr6H-"
      },
      "execution_count": null,
      "outputs": []
    },
    {
      "cell_type": "markdown",
      "source": [],
      "metadata": {
        "id": "77M43X7assPw"
      }
    },
    {
      "cell_type": "markdown",
      "source": [
        "# Print time and losses"
      ],
      "metadata": {
        "id": "w3-bPeY4tE1Q"
      }
    },
    {
      "cell_type": "code",
      "source": [
        "print(\"BGD (small dataset) : Time =\" , time_bgd_small , \"final Loss =\" , losses_bgd_small[-1])\n",
        "print(\"BGD (large dataset) : Time =\" , time_bgd_large , \"final Loss =\" , losses_bgd_large[-1])\n",
        "print(\"SGD (small dataset) : Time =\" , time_sgd_small , \"final Loss =\" , losses_sgd_small[-1])\n",
        "print(\"SGD (large dataset) : Time =\" , time_sgd_large , \"final Loss =\" , losses_sgd_large[-1])"
      ],
      "metadata": {
        "colab": {
          "base_uri": "https://localhost:8080/"
        },
        "id": "-UQpYsjXtJxl",
        "outputId": "9e92e3b8-ee25-47e9-8427-1686785c4830"
      },
      "execution_count": null,
      "outputs": [
        {
          "output_type": "stream",
          "name": "stdout",
          "text": [
            "BGD (small dataset) : Time = 0.003252267837524414 final Loss = 1.2281896410594296e+279\n",
            "BGD (large dataset) : Time = 78.46567368507385 final Loss = nan\n",
            "SGD (small dataset) : Time = 0.0025501251220703125 final Loss = 1732.2740343450873\n",
            "SGD (large dataset) : Time = 0.9051468372344971 final Loss = 599.4259543835559\n"
          ]
        }
      ]
    },
    {
      "cell_type": "markdown",
      "source": [
        "# Plot the graph"
      ],
      "metadata": {
        "id": "Ww_qmvJIt8Ci"
      }
    },
    {
      "cell_type": "code",
      "source": [
        "plt.figure(figsize=(10,5))\n",
        "plt.subplot(1,2,1)\n",
        "plt.plot(losses_bgd_small,label=\"BGD (small dataset)\")\n",
        "plt.plot(losses_sgd_small,label=\"SGD (small dataset)\")\n",
        "plt.xlabel(\"Epochs\")\n",
        "plt.ylabel(\"Loss\")\n",
        "plt.legend()\n",
        "plt.title(\"small dataset\")\n",
        "plt.subplot(1,2,2)\n",
        "\n",
        "plt.plot(losses_bgd_large,label=\"BGD (large dataset)\")\n",
        "plt.plot(losses_sgd_large,label=\"SGD (large dataset)\")\n",
        "plt.xlabel(\"Epochs\")\n",
        "plt.ylabel(\"Loss\")\n",
        "plt.legend()\n",
        "plt.title(\"large dataset\")\n",
        "plt.show()"
      ],
      "metadata": {
        "colab": {
          "base_uri": "https://localhost:8080/",
          "height": 487
        },
        "id": "ztugkcVut7Rl",
        "outputId": "491139b7-2bca-47ed-ae94-cad29068c318"
      },
      "execution_count": null,
      "outputs": [
        {
          "output_type": "display_data",
          "data": {
            "text/plain": [
              "<Figure size 1000x500 with 2 Axes>"
            ],
            "image/png": "[encoded data removed]"
          },
          "metadata": {}
        }
      ]
    }
  ]
}